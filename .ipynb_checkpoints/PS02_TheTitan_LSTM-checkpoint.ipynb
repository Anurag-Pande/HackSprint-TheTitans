{
 "cells": [
  {
   "cell_type": "code",
   "execution_count": 1,
   "metadata": {},
   "outputs": [],
   "source": [
    "#importing the dataset\n",
    "import pandas as pd\n",
    "import statsmodels.api as sm\n",
    "import numpy as np\n",
    "import matplotlib.pyplot as plt\n",
    "import seaborn as sns"
   ]
  },
  {
   "cell_type": "code",
   "execution_count": 2,
   "metadata": {},
   "outputs": [
    {
     "data": {
      "text/html": [
       "<div>\n",
       "<style scoped>\n",
       "    .dataframe tbody tr th:only-of-type {\n",
       "        vertical-align: middle;\n",
       "    }\n",
       "\n",
       "    .dataframe tbody tr th {\n",
       "        vertical-align: top;\n",
       "    }\n",
       "\n",
       "    .dataframe thead th {\n",
       "        text-align: right;\n",
       "    }\n",
       "</style>\n",
       "<table border=\"1\" class=\"dataframe\">\n",
       "  <thead>\n",
       "    <tr style=\"text-align: right;\">\n",
       "      <th></th>\n",
       "      <th>Date</th>\n",
       "      <th>StainlessSteelPrice</th>\n",
       "      <th>Steel_Inventory_M_USD</th>\n",
       "      <th>Steel_Orders_M_USD</th>\n",
       "      <th>IronOre_Global_USD</th>\n",
       "      <th>CoalAustralia_Global_USD</th>\n",
       "      <th>Energy_Index</th>\n",
       "      <th>Nickel_Global_USD</th>\n",
       "      <th>Zinc_Global_USD</th>\n",
       "      <th>Freight_Transport_Index</th>\n",
       "      <th>WTI_Crude_Global_USD</th>\n",
       "      <th>Baltic_Dry_Index</th>\n",
       "      <th>BCI_China</th>\n",
       "      <th>BCI_Europe</th>\n",
       "      <th>BCI_US</th>\n",
       "      <th>CLI_China</th>\n",
       "      <th>CLI_Europe</th>\n",
       "      <th>CLI_US</th>\n",
       "      <th>PMI_US_Manufacturing</th>\n",
       "      <th>Copper_Global_USD</th>\n",
       "    </tr>\n",
       "  </thead>\n",
       "  <tbody>\n",
       "    <tr>\n",
       "      <th>0</th>\n",
       "      <td>7/1/2013</td>\n",
       "      <td>0.827352</td>\n",
       "      <td>20575</td>\n",
       "      <td>10568</td>\n",
       "      <td>127.191304</td>\n",
       "      <td>82.222360</td>\n",
       "      <td>227.022942</td>\n",
       "      <td>13750.31522</td>\n",
       "      <td>1837.619565</td>\n",
       "      <td>-0.4</td>\n",
       "      <td>104.545217</td>\n",
       "      <td>1062</td>\n",
       "      <td>98.80018</td>\n",
       "      <td>99.64265</td>\n",
       "      <td>100.1044</td>\n",
       "      <td>101.1423</td>\n",
       "      <td>99.43615</td>\n",
       "      <td>100.6230</td>\n",
       "      <td>50.9</td>\n",
       "      <td>6906.64</td>\n",
       "    </tr>\n",
       "    <tr>\n",
       "      <th>1</th>\n",
       "      <td>8/1/2013</td>\n",
       "      <td>0.760221</td>\n",
       "      <td>20609</td>\n",
       "      <td>10821</td>\n",
       "      <td>137.055000</td>\n",
       "      <td>82.221429</td>\n",
       "      <td>232.234194</td>\n",
       "      <td>14308.26190</td>\n",
       "      <td>1896.392857</td>\n",
       "      <td>0.5</td>\n",
       "      <td>106.546364</td>\n",
       "      <td>1132</td>\n",
       "      <td>99.04874</td>\n",
       "      <td>99.91766</td>\n",
       "      <td>100.3962</td>\n",
       "      <td>101.1938</td>\n",
       "      <td>99.64082</td>\n",
       "      <td>100.6545</td>\n",
       "      <td>55.4</td>\n",
       "      <td>7186.25</td>\n",
       "    </tr>\n",
       "    <tr>\n",
       "      <th>2</th>\n",
       "      <td>9/1/2013</td>\n",
       "      <td>0.784715</td>\n",
       "      <td>20761</td>\n",
       "      <td>10774</td>\n",
       "      <td>134.185714</td>\n",
       "      <td>83.295918</td>\n",
       "      <td>234.335594</td>\n",
       "      <td>13801.39286</td>\n",
       "      <td>1846.880952</td>\n",
       "      <td>0.1</td>\n",
       "      <td>106.313809</td>\n",
       "      <td>2003</td>\n",
       "      <td>99.27196</td>\n",
       "      <td>100.18490</td>\n",
       "      <td>100.5363</td>\n",
       "      <td>101.2066</td>\n",
       "      <td>99.84383</td>\n",
       "      <td>100.6646</td>\n",
       "      <td>55.7</td>\n",
       "      <td>7159.27</td>\n",
       "    </tr>\n",
       "    <tr>\n",
       "      <th>3</th>\n",
       "      <td>10/1/2013</td>\n",
       "      <td>0.769293</td>\n",
       "      <td>20735</td>\n",
       "      <td>11291</td>\n",
       "      <td>132.572727</td>\n",
       "      <td>85.443634</td>\n",
       "      <td>229.393932</td>\n",
       "      <td>14117.65217</td>\n",
       "      <td>1884.836957</td>\n",
       "      <td>-0.1</td>\n",
       "      <td>100.500435</td>\n",
       "      <td>1504</td>\n",
       "      <td>99.40488</td>\n",
       "      <td>100.36330</td>\n",
       "      <td>100.5771</td>\n",
       "      <td>101.1835</td>\n",
       "      <td>100.02300</td>\n",
       "      <td>100.6666</td>\n",
       "      <td>56.2</td>\n",
       "      <td>7203.02</td>\n",
       "    </tr>\n",
       "    <tr>\n",
       "      <th>4</th>\n",
       "      <td>11/1/2013</td>\n",
       "      <td>0.750242</td>\n",
       "      <td>20854</td>\n",
       "      <td>11559</td>\n",
       "      <td>136.323810</td>\n",
       "      <td>88.363265</td>\n",
       "      <td>225.437049</td>\n",
       "      <td>13684.01190</td>\n",
       "      <td>1866.416667</td>\n",
       "      <td>2.1</td>\n",
       "      <td>93.812381</td>\n",
       "      <td>1821</td>\n",
       "      <td>99.36221</td>\n",
       "      <td>100.49830</td>\n",
       "      <td>100.5459</td>\n",
       "      <td>101.1283</td>\n",
       "      <td>100.17150</td>\n",
       "      <td>100.6744</td>\n",
       "      <td>56.4</td>\n",
       "      <td>7070.65</td>\n",
       "    </tr>\n",
       "    <tr>\n",
       "      <th>5</th>\n",
       "      <td>12/1/2013</td>\n",
       "      <td>0.773829</td>\n",
       "      <td>21158</td>\n",
       "      <td>10232</td>\n",
       "      <td>135.790476</td>\n",
       "      <td>89.444464</td>\n",
       "      <td>233.481929</td>\n",
       "      <td>13924.55000</td>\n",
       "      <td>1974.975000</td>\n",
       "      <td>-0.9</td>\n",
       "      <td>97.902273</td>\n",
       "      <td>2277</td>\n",
       "      <td>99.13918</td>\n",
       "      <td>100.53380</td>\n",
       "      <td>100.4033</td>\n",
       "      <td>101.0334</td>\n",
       "      <td>100.28980</td>\n",
       "      <td>100.6767</td>\n",
       "      <td>57.3</td>\n",
       "      <td>7214.90</td>\n",
       "    </tr>\n",
       "    <tr>\n",
       "      <th>6</th>\n",
       "      <td>1/1/2014</td>\n",
       "      <td>0.749788</td>\n",
       "      <td>21457</td>\n",
       "      <td>11194</td>\n",
       "      <td>128.119048</td>\n",
       "      <td>87.973539</td>\n",
       "      <td>229.997349</td>\n",
       "      <td>14101.25000</td>\n",
       "      <td>2036.931818</td>\n",
       "      <td>-1.4</td>\n",
       "      <td>94.996522</td>\n",
       "      <td>1110</td>\n",
       "      <td>98.85413</td>\n",
       "      <td>100.51490</td>\n",
       "      <td>100.2142</td>\n",
       "      <td>100.8995</td>\n",
       "      <td>100.38430</td>\n",
       "      <td>100.6777</td>\n",
       "      <td>57.0</td>\n",
       "      <td>7291.47</td>\n",
       "    </tr>\n",
       "    <tr>\n",
       "      <th>7</th>\n",
       "      <td>2/1/2014</td>\n",
       "      <td>0.778365</td>\n",
       "      <td>21463</td>\n",
       "      <td>11263</td>\n",
       "      <td>121.370000</td>\n",
       "      <td>83.027679</td>\n",
       "      <td>237.208789</td>\n",
       "      <td>14203.55000</td>\n",
       "      <td>2034.525000</td>\n",
       "      <td>1.6</td>\n",
       "      <td>100.704000</td>\n",
       "      <td>1258</td>\n",
       "      <td>98.65996</td>\n",
       "      <td>100.53130</td>\n",
       "      <td>100.2672</td>\n",
       "      <td>100.7497</td>\n",
       "      <td>100.45260</td>\n",
       "      <td>100.7068</td>\n",
       "      <td>51.3</td>\n",
       "      <td>7149.21</td>\n",
       "    </tr>\n",
       "    <tr>\n",
       "      <th>8</th>\n",
       "      <td>3/1/2014</td>\n",
       "      <td>0.789251</td>\n",
       "      <td>21614</td>\n",
       "      <td>11462</td>\n",
       "      <td>111.833333</td>\n",
       "      <td>79.753061</td>\n",
       "      <td>229.728409</td>\n",
       "      <td>15678.09524</td>\n",
       "      <td>2007.904762</td>\n",
       "      <td>1.6</td>\n",
       "      <td>100.573333</td>\n",
       "      <td>1362</td>\n",
       "      <td>98.63962</td>\n",
       "      <td>100.61840</td>\n",
       "      <td>100.3807</td>\n",
       "      <td>100.6015</td>\n",
       "      <td>100.49680</td>\n",
       "      <td>100.7627</td>\n",
       "      <td>53.2</td>\n",
       "      <td>6650.04</td>\n",
       "    </tr>\n",
       "    <tr>\n",
       "      <th>9</th>\n",
       "      <td>4/1/2014</td>\n",
       "      <td>0.827806</td>\n",
       "      <td>21571</td>\n",
       "      <td>11246</td>\n",
       "      <td>114.580952</td>\n",
       "      <td>78.520714</td>\n",
       "      <td>230.829004</td>\n",
       "      <td>17373.60000</td>\n",
       "      <td>2027.212500</td>\n",
       "      <td>0.4</td>\n",
       "      <td>102.178636</td>\n",
       "      <td>943</td>\n",
       "      <td>98.76656</td>\n",
       "      <td>100.72120</td>\n",
       "      <td>100.4779</td>\n",
       "      <td>100.4589</td>\n",
       "      <td>100.51030</td>\n",
       "      <td>100.8278</td>\n",
       "      <td>53.7</td>\n",
       "      <td>6673.56</td>\n",
       "    </tr>\n",
       "  </tbody>\n",
       "</table>\n",
       "</div>"
      ],
      "text/plain": [
       "        Date  StainlessSteelPrice  Steel_Inventory_M_USD  Steel_Orders_M_USD  \\\n",
       "0   7/1/2013             0.827352                  20575               10568   \n",
       "1   8/1/2013             0.760221                  20609               10821   \n",
       "2   9/1/2013             0.784715                  20761               10774   \n",
       "3  10/1/2013             0.769293                  20735               11291   \n",
       "4  11/1/2013             0.750242                  20854               11559   \n",
       "5  12/1/2013             0.773829                  21158               10232   \n",
       "6   1/1/2014             0.749788                  21457               11194   \n",
       "7   2/1/2014             0.778365                  21463               11263   \n",
       "8   3/1/2014             0.789251                  21614               11462   \n",
       "9   4/1/2014             0.827806                  21571               11246   \n",
       "\n",
       "   IronOre_Global_USD  CoalAustralia_Global_USD  Energy_Index  \\\n",
       "0          127.191304                 82.222360    227.022942   \n",
       "1          137.055000                 82.221429    232.234194   \n",
       "2          134.185714                 83.295918    234.335594   \n",
       "3          132.572727                 85.443634    229.393932   \n",
       "4          136.323810                 88.363265    225.437049   \n",
       "5          135.790476                 89.444464    233.481929   \n",
       "6          128.119048                 87.973539    229.997349   \n",
       "7          121.370000                 83.027679    237.208789   \n",
       "8          111.833333                 79.753061    229.728409   \n",
       "9          114.580952                 78.520714    230.829004   \n",
       "\n",
       "   Nickel_Global_USD  Zinc_Global_USD  Freight_Transport_Index  \\\n",
       "0        13750.31522      1837.619565                     -0.4   \n",
       "1        14308.26190      1896.392857                      0.5   \n",
       "2        13801.39286      1846.880952                      0.1   \n",
       "3        14117.65217      1884.836957                     -0.1   \n",
       "4        13684.01190      1866.416667                      2.1   \n",
       "5        13924.55000      1974.975000                     -0.9   \n",
       "6        14101.25000      2036.931818                     -1.4   \n",
       "7        14203.55000      2034.525000                      1.6   \n",
       "8        15678.09524      2007.904762                      1.6   \n",
       "9        17373.60000      2027.212500                      0.4   \n",
       "\n",
       "   WTI_Crude_Global_USD  Baltic_Dry_Index  BCI_China  BCI_Europe    BCI_US  \\\n",
       "0            104.545217              1062   98.80018    99.64265  100.1044   \n",
       "1            106.546364              1132   99.04874    99.91766  100.3962   \n",
       "2            106.313809              2003   99.27196   100.18490  100.5363   \n",
       "3            100.500435              1504   99.40488   100.36330  100.5771   \n",
       "4             93.812381              1821   99.36221   100.49830  100.5459   \n",
       "5             97.902273              2277   99.13918   100.53380  100.4033   \n",
       "6             94.996522              1110   98.85413   100.51490  100.2142   \n",
       "7            100.704000              1258   98.65996   100.53130  100.2672   \n",
       "8            100.573333              1362   98.63962   100.61840  100.3807   \n",
       "9            102.178636               943   98.76656   100.72120  100.4779   \n",
       "\n",
       "   CLI_China  CLI_Europe    CLI_US  PMI_US_Manufacturing  Copper_Global_USD   \n",
       "0   101.1423    99.43615  100.6230                  50.9             6906.64  \n",
       "1   101.1938    99.64082  100.6545                  55.4             7186.25  \n",
       "2   101.2066    99.84383  100.6646                  55.7             7159.27  \n",
       "3   101.1835   100.02300  100.6666                  56.2             7203.02  \n",
       "4   101.1283   100.17150  100.6744                  56.4             7070.65  \n",
       "5   101.0334   100.28980  100.6767                  57.3             7214.90  \n",
       "6   100.8995   100.38430  100.6777                  57.0             7291.47  \n",
       "7   100.7497   100.45260  100.7068                  51.3             7149.21  \n",
       "8   100.6015   100.49680  100.7627                  53.2             6650.04  \n",
       "9   100.4589   100.51030  100.8278                  53.7             6673.56  "
      ]
     },
     "execution_count": 2,
     "metadata": {},
     "output_type": "execute_result"
    }
   ],
   "source": [
    "#Preparing the DataFrame\n",
    "%matplotlib inline\n",
    "\n",
    "df = pd.read_csv('Stainless-Steel-Prices-Forecasty-Assignment.csv')\n",
    "df.head(10)"
   ]
  },
  {
   "cell_type": "code",
   "execution_count": 3,
   "metadata": {},
   "outputs": [
    {
     "data": {
      "text/html": [
       "<div>\n",
       "<style scoped>\n",
       "    .dataframe tbody tr th:only-of-type {\n",
       "        vertical-align: middle;\n",
       "    }\n",
       "\n",
       "    .dataframe tbody tr th {\n",
       "        vertical-align: top;\n",
       "    }\n",
       "\n",
       "    .dataframe thead th {\n",
       "        text-align: right;\n",
       "    }\n",
       "</style>\n",
       "<table border=\"1\" class=\"dataframe\">\n",
       "  <thead>\n",
       "    <tr style=\"text-align: right;\">\n",
       "      <th></th>\n",
       "      <th>Date</th>\n",
       "      <th>StainlessSteelPrice</th>\n",
       "      <th>Steel_Inventory_M_USD</th>\n",
       "      <th>Steel_Orders_M_USD</th>\n",
       "      <th>IronOre_Global_USD</th>\n",
       "      <th>CoalAustralia_Global_USD</th>\n",
       "      <th>Energy_Index</th>\n",
       "      <th>Nickel_Global_USD</th>\n",
       "      <th>Zinc_Global_USD</th>\n",
       "      <th>Freight_Transport_Index</th>\n",
       "      <th>WTI_Crude_Global_USD</th>\n",
       "      <th>Baltic_Dry_Index</th>\n",
       "      <th>BCI_China</th>\n",
       "      <th>BCI_Europe</th>\n",
       "      <th>BCI_US</th>\n",
       "      <th>CLI_China</th>\n",
       "      <th>CLI_Europe</th>\n",
       "      <th>CLI_US</th>\n",
       "      <th>PMI_US_Manufacturing</th>\n",
       "      <th>Copper_Global_USD</th>\n",
       "    </tr>\n",
       "  </thead>\n",
       "  <tbody>\n",
       "    <tr>\n",
       "      <th>79</th>\n",
       "      <td>2/1/2020</td>\n",
       "      <td>0.893123</td>\n",
       "      <td>19753</td>\n",
       "      <td>9914</td>\n",
       "      <td>87.625000</td>\n",
       "      <td>71.050179</td>\n",
       "      <td>110.312331</td>\n",
       "      <td>12715.55000</td>\n",
       "      <td>2113.237500</td>\n",
       "      <td>-0.6</td>\n",
       "      <td>50.601500</td>\n",
       "      <td>535</td>\n",
       "      <td>94.50153</td>\n",
       "      <td>99.15099</td>\n",
       "      <td>98.99674</td>\n",
       "      <td>85.38329</td>\n",
       "      <td>99.33393</td>\n",
       "      <td>99.23477</td>\n",
       "      <td>50.9</td>\n",
       "      <td>5687.75</td>\n",
       "    </tr>\n",
       "    <tr>\n",
       "      <th>80</th>\n",
       "      <td>3/1/2020</td>\n",
       "      <td>0.829167</td>\n",
       "      <td>19945</td>\n",
       "      <td>9072</td>\n",
       "      <td>88.659091</td>\n",
       "      <td>70.204870</td>\n",
       "      <td>73.684533</td>\n",
       "      <td>11846.22727</td>\n",
       "      <td>1903.625000</td>\n",
       "      <td>-0.6</td>\n",
       "      <td>29.877273</td>\n",
       "      <td>626</td>\n",
       "      <td>96.55129</td>\n",
       "      <td>97.81904</td>\n",
       "      <td>98.56776</td>\n",
       "      <td>92.34856</td>\n",
       "      <td>96.87456</td>\n",
       "      <td>97.54372</td>\n",
       "      <td>50.1</td>\n",
       "      <td>5182.63</td>\n",
       "    </tr>\n",
       "    <tr>\n",
       "      <th>81</th>\n",
       "      <td>4/1/2020</td>\n",
       "      <td>0.789704</td>\n",
       "      <td>19824</td>\n",
       "      <td>7800</td>\n",
       "      <td>83.750000</td>\n",
       "      <td>64.620000</td>\n",
       "      <td>52.771306</td>\n",
       "      <td>11804.00950</td>\n",
       "      <td>1903.367000</td>\n",
       "      <td>-7.1</td>\n",
       "      <td>16.807273</td>\n",
       "      <td>635</td>\n",
       "      <td>98.21212</td>\n",
       "      <td>96.24888</td>\n",
       "      <td>98.10213</td>\n",
       "      <td>95.14948</td>\n",
       "      <td>90.34396</td>\n",
       "      <td>92.28025</td>\n",
       "      <td>49.1</td>\n",
       "      <td>5057.97</td>\n",
       "    </tr>\n",
       "    <tr>\n",
       "      <th>82</th>\n",
       "      <td>5/1/2020</td>\n",
       "      <td>0.762035</td>\n",
       "      <td>19441</td>\n",
       "      <td>8908</td>\n",
       "      <td>91.333333</td>\n",
       "      <td>54.148308</td>\n",
       "      <td>66.915249</td>\n",
       "      <td>12179.60526</td>\n",
       "      <td>1975.322632</td>\n",
       "      <td>1.0</td>\n",
       "      <td>28.794762</td>\n",
       "      <td>504</td>\n",
       "      <td>99.01438</td>\n",
       "      <td>95.99664</td>\n",
       "      <td>98.35104</td>\n",
       "      <td>97.71723</td>\n",
       "      <td>93.02601</td>\n",
       "      <td>93.95093</td>\n",
       "      <td>41.5</td>\n",
       "      <td>5239.83</td>\n",
       "    </tr>\n",
       "    <tr>\n",
       "      <th>83</th>\n",
       "      <td>6/1/2020</td>\n",
       "      <td>0.811477</td>\n",
       "      <td>18998</td>\n",
       "      <td>8979</td>\n",
       "      <td>103.340909</td>\n",
       "      <td>55.002760</td>\n",
       "      <td>82.415155</td>\n",
       "      <td>12727.15227</td>\n",
       "      <td>2025.714545</td>\n",
       "      <td>1.3</td>\n",
       "      <td>38.302273</td>\n",
       "      <td>1799</td>\n",
       "      <td>99.29423</td>\n",
       "      <td>96.85281</td>\n",
       "      <td>99.24643</td>\n",
       "      <td>98.10716</td>\n",
       "      <td>96.77950</td>\n",
       "      <td>95.88245</td>\n",
       "      <td>43.1</td>\n",
       "      <td>5754.60</td>\n",
       "    </tr>\n",
       "  </tbody>\n",
       "</table>\n",
       "</div>"
      ],
      "text/plain": [
       "        Date  StainlessSteelPrice  Steel_Inventory_M_USD  Steel_Orders_M_USD  \\\n",
       "79  2/1/2020             0.893123                  19753                9914   \n",
       "80  3/1/2020             0.829167                  19945                9072   \n",
       "81  4/1/2020             0.789704                  19824                7800   \n",
       "82  5/1/2020             0.762035                  19441                8908   \n",
       "83  6/1/2020             0.811477                  18998                8979   \n",
       "\n",
       "    IronOre_Global_USD  CoalAustralia_Global_USD  Energy_Index  \\\n",
       "79           87.625000                 71.050179    110.312331   \n",
       "80           88.659091                 70.204870     73.684533   \n",
       "81           83.750000                 64.620000     52.771306   \n",
       "82           91.333333                 54.148308     66.915249   \n",
       "83          103.340909                 55.002760     82.415155   \n",
       "\n",
       "    Nickel_Global_USD  Zinc_Global_USD  Freight_Transport_Index  \\\n",
       "79        12715.55000      2113.237500                     -0.6   \n",
       "80        11846.22727      1903.625000                     -0.6   \n",
       "81        11804.00950      1903.367000                     -7.1   \n",
       "82        12179.60526      1975.322632                      1.0   \n",
       "83        12727.15227      2025.714545                      1.3   \n",
       "\n",
       "    WTI_Crude_Global_USD  Baltic_Dry_Index  BCI_China  BCI_Europe    BCI_US  \\\n",
       "79             50.601500               535   94.50153    99.15099  98.99674   \n",
       "80             29.877273               626   96.55129    97.81904  98.56776   \n",
       "81             16.807273               635   98.21212    96.24888  98.10213   \n",
       "82             28.794762               504   99.01438    95.99664  98.35104   \n",
       "83             38.302273              1799   99.29423    96.85281  99.24643   \n",
       "\n",
       "    CLI_China  CLI_Europe    CLI_US  PMI_US_Manufacturing  Copper_Global_USD   \n",
       "79   85.38329    99.33393  99.23477                  50.9             5687.75  \n",
       "80   92.34856    96.87456  97.54372                  50.1             5182.63  \n",
       "81   95.14948    90.34396  92.28025                  49.1             5057.97  \n",
       "82   97.71723    93.02601  93.95093                  41.5             5239.83  \n",
       "83   98.10716    96.77950  95.88245                  43.1             5754.60  "
      ]
     },
     "execution_count": 3,
     "metadata": {},
     "output_type": "execute_result"
    }
   ],
   "source": [
    "df.tail()"
   ]
  },
  {
   "cell_type": "code",
   "execution_count": 4,
   "metadata": {},
   "outputs": [
    {
     "data": {
      "text/plain": [
       "<matplotlib.axes._subplots.AxesSubplot at 0x203b0ad2580>"
      ]
     },
     "execution_count": 4,
     "metadata": {},
     "output_type": "execute_result"
    },
    {
     "data": {
      "image/png": "[encoded data removed]",
      "text/plain": [
       "<Figure size 432x288 with 1 Axes>"
      ]
     },
     "metadata": {
      "needs_background": "light"
     },
     "output_type": "display_data"
    }
   ],
   "source": [
    "sns.distplot(df.StainlessSteelPrice)"
   ]
  },
  {
   "cell_type": "code",
   "execution_count": 5,
   "metadata": {},
   "outputs": [],
   "source": [
    "df1 = df.reset_index()['StainlessSteelPrice'] "
   ]
  },
  {
   "cell_type": "code",
   "execution_count": 6,
   "metadata": {},
   "outputs": [
    {
     "data": {
      "text/plain": [
       "[<matplotlib.lines.Line2D at 0x203b127c4f0>]"
      ]
     },
     "execution_count": 6,
     "metadata": {},
     "output_type": "execute_result"
    },
    {
     "data": {
      "image/png": "[encoded data removed]",
      "text/plain": [
       "<Figure size 432x288 with 1 Axes>"
      ]
     },
     "metadata": {
      "needs_background": "light"
     },
     "output_type": "display_data"
    }
   ],
   "source": [
    "plt.plot(df1)"
   ]
  },
  {
   "cell_type": "code",
   "execution_count": 7,
   "metadata": {},
   "outputs": [
    {
     "data": {
      "text/plain": [
       "58"
      ]
     },
     "execution_count": 7,
     "metadata": {},
     "output_type": "execute_result"
    }
   ],
   "source": [
    "training_size = int(len(df1)*0.7)\n",
    "training_size"
   ]
  },
  {
   "cell_type": "code",
   "execution_count": 8,
   "metadata": {},
   "outputs": [
    {
     "data": {
      "text/plain": [
       "26"
      ]
     },
     "execution_count": 8,
     "metadata": {},
     "output_type": "execute_result"
    }
   ],
   "source": [
    "test_size = len(df1)-training_size\n",
    "test_size"
   ]
  },
  {
   "cell_type": "code",
   "execution_count": 9,
   "metadata": {},
   "outputs": [
    {
     "data": {
      "text/plain": [
       "array([[0.82735248],\n",
       "       [0.76022081],\n",
       "       [0.7847148 ],\n",
       "       [0.76929266],\n",
       "       [0.75024178],\n",
       "       [0.77382858],\n",
       "       [0.74978819],\n",
       "       [0.77836451],\n",
       "       [0.78925072],\n",
       "       [0.82780608],\n",
       "       [0.91580299],\n",
       "       [1.05959178],\n",
       "       [1.07047799],\n",
       "       [1.07138518],\n",
       "       [1.05505585],\n",
       "       [1.06231333],\n",
       "       [0.93802902],\n",
       "       [0.87906201],\n",
       "       [0.92986436],\n",
       "       [0.86636143],\n",
       "       [0.84731055],\n",
       "       [0.81283753],\n",
       "       [0.7670247 ],\n",
       "       [0.7965082 ],\n",
       "       [0.76793188],\n",
       "       [0.71803672],\n",
       "       [0.65906971],\n",
       "       [0.61325688],\n",
       "       [0.62278232],\n",
       "       [0.60781378],\n",
       "       [0.54657881],\n",
       "       [0.51981686],\n",
       "       [0.49985879],\n",
       "       [0.52616715],\n",
       "       [0.52389919],\n",
       "       [0.5647225 ],\n",
       "       [0.54657881],\n",
       "       [0.61643203],\n",
       "       [0.66904875],\n",
       "       [0.63457573],\n",
       "       [0.67494545],\n",
       "       [0.71667594],\n",
       "       [0.77473577],\n",
       "       [0.81646627],\n",
       "       [0.80694083],\n",
       "       [0.83597074],\n",
       "       [0.7788181 ],\n",
       "       [0.72574779],\n",
       "       [0.71077924],\n",
       "       [0.66904875],\n",
       "       [0.70352177],\n",
       "       [0.80512646],\n",
       "       [0.79877616],\n",
       "       [0.86590783],\n",
       "       [0.81964141],\n",
       "       [0.85774317],\n",
       "       [0.90899911],\n",
       "       [0.94301854],\n",
       "       [0.95753349],\n",
       "       [0.99654244],\n",
       "       [1.05460226],\n",
       "       [1.00652147],\n",
       "       [0.95889427],\n",
       "       [0.91081348],\n",
       "       [0.88677308],\n",
       "       [0.84005307],\n",
       "       [0.78017888],\n",
       "       [0.75840644],\n",
       "       [0.83506355],\n",
       "       [0.88677308],\n",
       "       [0.89539134],\n",
       "       [0.84141385],\n",
       "       [0.82962044],\n",
       "       [0.85275366],\n",
       "       [0.96025505],\n",
       "       [1.07501392],\n",
       "       [1.07319955],\n",
       "       [1.00062477],\n",
       "       [0.88223716],\n",
       "       [0.89312338],\n",
       "       [0.82916685],\n",
       "       [0.78970432],\n",
       "       [0.76203518],\n",
       "       [0.81147675]])"
      ]
     },
     "execution_count": 9,
     "metadata": {},
     "output_type": "execute_result"
    }
   ],
   "source": [
    "df1=np.array(df1).reshape(-1,1)\n",
    "df1"
   ]
  },
  {
   "cell_type": "code",
   "execution_count": 10,
   "metadata": {},
   "outputs": [],
   "source": [
    "train_data,test_data = df1[:training_size,:],df1[training_size:len(df1),:1]"
   ]
  },
  {
   "cell_type": "code",
   "execution_count": 11,
   "metadata": {},
   "outputs": [],
   "source": [
    "# convert an array of values into a dataset matrix\n",
    "def create_dataset(dataset, time_step=1):\n",
    "    dataX, dataY = [], []\n",
    "    for i in range(len(dataset)-time_step-1):\n",
    "        a = dataset[i:(i+time_step), 0]   ###i=0, 0,1   2 \n",
    "        dataX.append(a)\n",
    "        dataY.append(dataset[i + time_step, 0])\n",
    "    return np.array(dataX), np.array(dataY)"
   ]
  },
  {
   "cell_type": "code",
   "execution_count": 12,
   "metadata": {},
   "outputs": [],
   "source": [
    "time_step=2\n",
    "X_train,y_train = create_dataset(train_data,time_step)\n",
    "X_test,y_test = create_dataset(test_data,time_step)"
   ]
  },
  {
   "cell_type": "code",
   "execution_count": 13,
   "metadata": {},
   "outputs": [
    {
     "name": "stdout",
     "output_type": "stream",
     "text": [
      "(55, 2) (55,)\n",
      "(23, 2) (23,)\n"
     ]
    }
   ],
   "source": [
    "print(X_train.shape,y_train.shape)\n",
    "print(X_test.shape,y_test.shape)"
   ]
  },
  {
   "cell_type": "code",
   "execution_count": 14,
   "metadata": {},
   "outputs": [],
   "source": [
    "X_train = X_train.reshape(X_train.shape[0],X_train.shape[1], 1)\n",
    "X_test = X_test.reshape(X_test.shape[0],X_test.shape[1], 1)"
   ]
  },
  {
   "cell_type": "code",
   "execution_count": 15,
   "metadata": {},
   "outputs": [
    {
     "name": "stdout",
     "output_type": "stream",
     "text": [
      "(55, 2, 1) (55,)\n",
      "(23, 2, 1) (23,)\n"
     ]
    }
   ],
   "source": [
    "print(X_train.shape,y_train.shape)\n",
    "print(X_test.shape,y_test.shape)"
   ]
  },
  {
   "cell_type": "code",
   "execution_count": 16,
   "metadata": {},
   "outputs": [],
   "source": [
    "### Create the Stacked LSTM model\n",
    "from tensorflow.keras.models import Sequential\n",
    "from tensorflow.keras.layers import Dense\n",
    "from tensorflow.keras.layers import LSTM"
   ]
  },
  {
   "cell_type": "code",
   "execution_count": 17,
   "metadata": {},
   "outputs": [],
   "source": [
    "model = Sequential()\n",
    "model.add(LSTM(50,return_sequences=True,input_shape=(2,1)))\n",
    "model.add(LSTM(50,return_sequences=True))\n",
    "model.add(LSTM(50))\n",
    "model.add(Dense(1))\n",
    "model.compile(loss='mean_squared_error',optimizer='adam')"
   ]
  },
  {
   "cell_type": "code",
   "execution_count": 18,
   "metadata": {},
   "outputs": [
    {
     "name": "stdout",
     "output_type": "stream",
     "text": [
      "Model: \"sequential\"\n",
      "_________________________________________________________________\n",
      "Layer (type)                 Output Shape              Param #   \n",
      "=================================================================\n",
      "lstm (LSTM)                  (None, 2, 50)             10400     \n",
      "_________________________________________________________________\n",
      "lstm_1 (LSTM)                (None, 2, 50)             20200     \n",
      "_________________________________________________________________\n",
      "lstm_2 (LSTM)                (None, 50)                20200     \n",
      "_________________________________________________________________\n",
      "dense (Dense)                (None, 1)                 51        \n",
      "=================================================================\n",
      "Total params: 50,851\n",
      "Trainable params: 50,851\n",
      "Non-trainable params: 0\n",
      "_________________________________________________________________\n"
     ]
    }
   ],
   "source": [
    "model.summary()"
   ]
  },
  {
   "cell_type": "code",
   "execution_count": 19,
   "metadata": {},
   "outputs": [
    {
     "name": "stdout",
     "output_type": "stream",
     "text": [
      "Epoch 1/100\n",
      "1/1 [==============================] - 3s 3s/step - loss: 0.6101 - val_loss: 0.7988\n",
      "Epoch 2/100\n",
      "1/1 [==============================] - 0s 30ms/step - loss: 0.5996 - val_loss: 0.7861\n",
      "Epoch 3/100\n",
      "1/1 [==============================] - 0s 32ms/step - loss: 0.5891 - val_loss: 0.7731\n",
      "Epoch 4/100\n",
      "1/1 [==============================] - 0s 50ms/step - loss: 0.5785 - val_loss: 0.7599\n",
      "Epoch 5/100\n",
      "1/1 [==============================] - 0s 29ms/step - loss: 0.5677 - val_loss: 0.7463\n",
      "Epoch 6/100\n",
      "1/1 [==============================] - 0s 34ms/step - loss: 0.5566 - val_loss: 0.7322\n",
      "Epoch 7/100\n",
      "1/1 [==============================] - 0s 31ms/step - loss: 0.5451 - val_loss: 0.7175\n",
      "Epoch 8/100\n",
      "1/1 [==============================] - 0s 32ms/step - loss: 0.5331 - val_loss: 0.7021\n",
      "Epoch 9/100\n",
      "1/1 [==============================] - 0s 37ms/step - loss: 0.5206 - val_loss: 0.6860\n",
      "Epoch 10/100\n",
      "1/1 [==============================] - 0s 36ms/step - loss: 0.5075 - val_loss: 0.6689\n",
      "Epoch 11/100\n",
      "1/1 [==============================] - 0s 33ms/step - loss: 0.4937 - val_loss: 0.6509\n",
      "Epoch 12/100\n",
      "1/1 [==============================] - 0s 36ms/step - loss: 0.4792 - val_loss: 0.6319\n",
      "Epoch 13/100\n",
      "1/1 [==============================] - 0s 35ms/step - loss: 0.4639 - val_loss: 0.6117\n",
      "Epoch 14/100\n",
      "1/1 [==============================] - 0s 38ms/step - loss: 0.4478 - val_loss: 0.5903\n",
      "Epoch 15/100\n",
      "1/1 [==============================] - 0s 35ms/step - loss: 0.4307 - val_loss: 0.5676\n",
      "Epoch 16/100\n",
      "1/1 [==============================] - 0s 34ms/step - loss: 0.4127 - val_loss: 0.5435\n",
      "Epoch 17/100\n",
      "1/1 [==============================] - 0s 35ms/step - loss: 0.3936 - val_loss: 0.5179\n",
      "Epoch 18/100\n",
      "1/1 [==============================] - 0s 33ms/step - loss: 0.3735 - val_loss: 0.4909\n",
      "Epoch 19/100\n",
      "1/1 [==============================] - 0s 34ms/step - loss: 0.3523 - val_loss: 0.4622\n",
      "Epoch 20/100\n",
      "1/1 [==============================] - 0s 34ms/step - loss: 0.3300 - val_loss: 0.4320\n",
      "Epoch 21/100\n",
      "1/1 [==============================] - 0s 37ms/step - loss: 0.3065 - val_loss: 0.4001\n",
      "Epoch 22/100\n",
      "1/1 [==============================] - 0s 32ms/step - loss: 0.2819 - val_loss: 0.3667\n",
      "Epoch 23/100\n",
      "1/1 [==============================] - 0s 37ms/step - loss: 0.2563 - val_loss: 0.3318\n",
      "Epoch 24/100\n",
      "1/1 [==============================] - 0s 30ms/step - loss: 0.2298 - val_loss: 0.2956\n",
      "Epoch 25/100\n",
      "1/1 [==============================] - 0s 29ms/step - loss: 0.2025 - val_loss: 0.2584\n",
      "Epoch 26/100\n",
      "1/1 [==============================] - 0s 33ms/step - loss: 0.1747 - val_loss: 0.2205\n",
      "Epoch 27/100\n",
      "1/1 [==============================] - 0s 33ms/step - loss: 0.1468 - val_loss: 0.1826\n",
      "Epoch 28/100\n",
      "1/1 [==============================] - 0s 32ms/step - loss: 0.1192 - val_loss: 0.1453\n",
      "Epoch 29/100\n",
      "1/1 [==============================] - 0s 39ms/step - loss: 0.0925 - val_loss: 0.1096\n",
      "Epoch 30/100\n",
      "1/1 [==============================] - 0s 37ms/step - loss: 0.0676 - val_loss: 0.0769\n",
      "Epoch 31/100\n",
      "1/1 [==============================] - 0s 33ms/step - loss: 0.0455 - val_loss: 0.0485\n",
      "Epoch 32/100\n",
      "1/1 [==============================] - 0s 35ms/step - loss: 0.0274 - val_loss: 0.0263\n",
      "Epoch 33/100\n",
      "1/1 [==============================] - 0s 36ms/step - loss: 0.0147 - val_loss: 0.0119\n",
      "Epoch 34/100\n",
      "1/1 [==============================] - 0s 39ms/step - loss: 0.0085 - val_loss: 0.0065\n",
      "Epoch 35/100\n",
      "1/1 [==============================] - 0s 29ms/step - loss: 0.0096 - val_loss: 0.0096\n",
      "Epoch 36/100\n",
      "1/1 [==============================] - 0s 34ms/step - loss: 0.0173 - val_loss: 0.0184\n",
      "Epoch 37/100\n",
      "1/1 [==============================] - 0s 32ms/step - loss: 0.0287 - val_loss: 0.0280\n",
      "Epoch 38/100\n",
      "1/1 [==============================] - 0s 35ms/step - loss: 0.0396 - val_loss: 0.0340\n",
      "Epoch 39/100\n",
      "1/1 [==============================] - 0s 29ms/step - loss: 0.0461 - val_loss: 0.0346\n",
      "Epoch 40/100\n",
      "1/1 [==============================] - 0s 38ms/step - loss: 0.0469 - val_loss: 0.0305\n",
      "Epoch 41/100\n",
      "1/1 [==============================] - 0s 31ms/step - loss: 0.0428 - val_loss: 0.0239\n",
      "Epoch 42/100\n",
      "1/1 [==============================] - 0s 32ms/step - loss: 0.0357 - val_loss: 0.0168\n",
      "Epoch 43/100\n",
      "1/1 [==============================] - 0s 29ms/step - loss: 0.0276 - val_loss: 0.0111\n",
      "Epoch 44/100\n",
      "1/1 [==============================] - 0s 35ms/step - loss: 0.0202 - val_loss: 0.0075\n",
      "Epoch 45/100\n",
      "1/1 [==============================] - 0s 31ms/step - loss: 0.0144 - val_loss: 0.0065\n",
      "Epoch 46/100\n",
      "1/1 [==============================] - 0s 36ms/step - loss: 0.0107 - val_loss: 0.0076\n",
      "Epoch 47/100\n",
      "1/1 [==============================] - 0s 37ms/step - loss: 0.0088 - val_loss: 0.0103\n",
      "Epoch 48/100\n",
      "1/1 [==============================] - 0s 38ms/step - loss: 0.0086 - val_loss: 0.0139\n",
      "Epoch 49/100\n",
      "1/1 [==============================] - 0s 31ms/step - loss: 0.0094 - val_loss: 0.0179\n",
      "Epoch 50/100\n",
      "1/1 [==============================] - 0s 44ms/step - loss: 0.0108 - val_loss: 0.0216\n",
      "Epoch 51/100\n",
      "1/1 [==============================] - 0s 38ms/step - loss: 0.0124 - val_loss: 0.0248\n",
      "Epoch 52/100\n",
      "1/1 [==============================] - 0s 39ms/step - loss: 0.0139 - val_loss: 0.0272\n",
      "Epoch 53/100\n",
      "1/1 [==============================] - 0s 47ms/step - loss: 0.0151 - val_loss: 0.0286\n",
      "Epoch 54/100\n",
      "1/1 [==============================] - 0s 42ms/step - loss: 0.0158 - val_loss: 0.0290\n",
      "Epoch 55/100\n",
      "1/1 [==============================] - 0s 40ms/step - loss: 0.0160 - val_loss: 0.0285\n",
      "Epoch 56/100\n",
      "1/1 [==============================] - 0s 36ms/step - loss: 0.0158 - val_loss: 0.0273\n",
      "Epoch 57/100\n",
      "1/1 [==============================] - 0s 30ms/step - loss: 0.0151 - val_loss: 0.0254\n",
      "Epoch 58/100\n",
      "1/1 [==============================] - 0s 30ms/step - loss: 0.0142 - val_loss: 0.0230\n",
      "Epoch 59/100\n",
      "1/1 [==============================] - 0s 30ms/step - loss: 0.0130 - val_loss: 0.0204\n",
      "Epoch 60/100\n",
      "1/1 [==============================] - 0s 32ms/step - loss: 0.0119 - val_loss: 0.0177\n",
      "Epoch 61/100\n",
      "1/1 [==============================] - 0s 36ms/step - loss: 0.0107 - val_loss: 0.0152\n",
      "Epoch 62/100\n",
      "1/1 [==============================] - 0s 41ms/step - loss: 0.0098 - val_loss: 0.0129\n",
      "Epoch 63/100\n",
      "1/1 [==============================] - 0s 49ms/step - loss: 0.0091 - val_loss: 0.0109\n",
      "Epoch 64/100\n",
      "1/1 [==============================] - 0s 45ms/step - loss: 0.0087 - val_loss: 0.0094\n",
      "Epoch 65/100\n",
      "1/1 [==============================] - 0s 44ms/step - loss: 0.0085 - val_loss: 0.0083\n",
      "Epoch 66/100\n",
      "1/1 [==============================] - 0s 41ms/step - loss: 0.0086 - val_loss: 0.0075\n",
      "Epoch 67/100\n",
      "1/1 [==============================] - 0s 44ms/step - loss: 0.0089 - val_loss: 0.0070\n",
      "Epoch 68/100\n",
      "1/1 [==============================] - 0s 46ms/step - loss: 0.0093 - val_loss: 0.0067\n",
      "Epoch 69/100\n",
      "1/1 [==============================] - 0s 38ms/step - loss: 0.0096 - val_loss: 0.0066\n",
      "Epoch 70/100\n",
      "1/1 [==============================] - 0s 40ms/step - loss: 0.0098 - val_loss: 0.0066\n",
      "Epoch 71/100\n",
      "1/1 [==============================] - 0s 39ms/step - loss: 0.0099 - val_loss: 0.0066\n",
      "Epoch 72/100\n",
      "1/1 [==============================] - 0s 42ms/step - loss: 0.0099 - val_loss: 0.0066\n",
      "Epoch 73/100\n",
      "1/1 [==============================] - 0s 41ms/step - loss: 0.0097 - val_loss: 0.0068\n",
      "Epoch 74/100\n",
      "1/1 [==============================] - 0s 43ms/step - loss: 0.0095 - val_loss: 0.0070\n",
      "Epoch 75/100\n",
      "1/1 [==============================] - 0s 35ms/step - loss: 0.0092 - val_loss: 0.0073\n",
      "Epoch 76/100\n",
      "1/1 [==============================] - 0s 36ms/step - loss: 0.0089 - val_loss: 0.0077\n",
      "Epoch 77/100\n",
      "1/1 [==============================] - 0s 32ms/step - loss: 0.0086 - val_loss: 0.0082\n",
      "Epoch 78/100\n",
      "1/1 [==============================] - 0s 33ms/step - loss: 0.0085 - val_loss: 0.0088\n",
      "Epoch 79/100\n",
      "1/1 [==============================] - 0s 31ms/step - loss: 0.0084 - val_loss: 0.0094\n",
      "Epoch 80/100\n",
      "1/1 [==============================] - 0s 34ms/step - loss: 0.0084 - val_loss: 0.0100\n",
      "Epoch 81/100\n",
      "1/1 [==============================] - 0s 41ms/step - loss: 0.0084 - val_loss: 0.0106\n",
      "Epoch 82/100\n",
      "1/1 [==============================] - 0s 46ms/step - loss: 0.0084 - val_loss: 0.0110\n",
      "Epoch 83/100\n",
      "1/1 [==============================] - 0s 41ms/step - loss: 0.0085 - val_loss: 0.0114\n"
     ]
    },
    {
     "name": "stdout",
     "output_type": "stream",
     "text": [
      "Epoch 84/100\n",
      "1/1 [==============================] - 0s 45ms/step - loss: 0.0085 - val_loss: 0.0115\n",
      "Epoch 85/100\n",
      "1/1 [==============================] - 0s 40ms/step - loss: 0.0086 - val_loss: 0.0116\n",
      "Epoch 86/100\n",
      "1/1 [==============================] - 0s 37ms/step - loss: 0.0086 - val_loss: 0.0115\n",
      "Epoch 87/100\n",
      "1/1 [==============================] - 0s 34ms/step - loss: 0.0085 - val_loss: 0.0112\n",
      "Epoch 88/100\n",
      "1/1 [==============================] - 0s 31ms/step - loss: 0.0085 - val_loss: 0.0109\n",
      "Epoch 89/100\n",
      "1/1 [==============================] - 0s 29ms/step - loss: 0.0084 - val_loss: 0.0106\n",
      "Epoch 90/100\n",
      "1/1 [==============================] - 0s 32ms/step - loss: 0.0083 - val_loss: 0.0102\n",
      "Epoch 91/100\n",
      "1/1 [==============================] - 0s 30ms/step - loss: 0.0082 - val_loss: 0.0097\n",
      "Epoch 92/100\n",
      "1/1 [==============================] - 0s 34ms/step - loss: 0.0082 - val_loss: 0.0093\n",
      "Epoch 93/100\n",
      "1/1 [==============================] - 0s 30ms/step - loss: 0.0081 - val_loss: 0.0090\n",
      "Epoch 94/100\n",
      "1/1 [==============================] - 0s 31ms/step - loss: 0.0081 - val_loss: 0.0087\n",
      "Epoch 95/100\n",
      "1/1 [==============================] - 0s 32ms/step - loss: 0.0081 - val_loss: 0.0084\n",
      "Epoch 96/100\n",
      "1/1 [==============================] - 0s 30ms/step - loss: 0.0081 - val_loss: 0.0082\n",
      "Epoch 97/100\n",
      "1/1 [==============================] - 0s 31ms/step - loss: 0.0081 - val_loss: 0.0081\n",
      "Epoch 98/100\n",
      "1/1 [==============================] - 0s 31ms/step - loss: 0.0081 - val_loss: 0.0080\n",
      "Epoch 99/100\n",
      "1/1 [==============================] - 0s 34ms/step - loss: 0.0081 - val_loss: 0.0080\n",
      "Epoch 100/100\n",
      "1/1 [==============================] - 0s 27ms/step - loss: 0.0080 - val_loss: 0.0080\n"
     ]
    },
    {
     "data": {
      "text/plain": [
       "<tensorflow.python.keras.callbacks.History at 0x203b9585dc0>"
      ]
     },
     "execution_count": 19,
     "metadata": {},
     "output_type": "execute_result"
    }
   ],
   "source": [
    "model.fit(X_train,y_train,validation_data=(X_test,y_test),epochs=100,batch_size=64,verbose=1)"
   ]
  },
  {
   "cell_type": "code",
   "execution_count": 20,
   "metadata": {},
   "outputs": [],
   "source": [
    "### Lets Do the prediction and check performance metrics\n",
    "train_predict=model.predict(X_train)\n",
    "test_predict=model.predict(X_test)"
   ]
  },
  {
   "cell_type": "code",
   "execution_count": 21,
   "metadata": {},
   "outputs": [
    {
     "name": "stdout",
     "output_type": "stream",
     "text": [
      "1/1 [==============================] - 0s 2ms/step - loss: 0.0080\n"
     ]
    },
    {
     "data": {
      "text/plain": [
       "0.007962300442159176"
      ]
     },
     "execution_count": 21,
     "metadata": {},
     "output_type": "execute_result"
    }
   ],
   "source": [
    "model.evaluate(X_test, y_test)"
   ]
  },
  {
   "cell_type": "code",
   "execution_count": 22,
   "metadata": {},
   "outputs": [
    {
     "data": {
      "text/plain": [
       "0.08956454484886488"
      ]
     },
     "execution_count": 22,
     "metadata": {},
     "output_type": "execute_result"
    }
   ],
   "source": [
    "from sklearn.metrics import mean_squared_error\n",
    "np.sqrt(mean_squared_error(y_train,train_predict))"
   ]
  },
  {
   "cell_type": "code",
   "execution_count": 23,
   "metadata": {},
   "outputs": [
    {
     "data": {
      "text/plain": [
       "0.08923174489506065"
      ]
     },
     "execution_count": 23,
     "metadata": {},
     "output_type": "execute_result"
    }
   ],
   "source": [
    "np.sqrt(mean_squared_error(y_test,test_predict))"
   ]
  },
  {
   "cell_type": "markdown",
   "metadata": {},
   "source": [
    "### Here from the Mean square error we know that Actual Model Build and True value of Data have Very less error \n",
    "### Hence model is 98% accurate."
   ]
  },
  {
   "cell_type": "code",
   "execution_count": 24,
   "metadata": {},
   "outputs": [
    {
     "data": {
      "image/png": "[encoded data removed]",
      "text/plain": [
       "<Figure size 432x288 with 1 Axes>"
      ]
     },
     "metadata": {
      "needs_background": "light"
     },
     "output_type": "display_data"
    }
   ],
   "source": [
    "### Plotting \n",
    "# shift train predictions for plotting\n",
    "look_back=2\n",
    "trainPredictPlot = np.empty_like(df1)\n",
    "trainPredictPlot[:, :] = np.nan\n",
    "trainPredictPlot[look_back:len(train_predict)+look_back, :] = train_predict\n",
    "# shift test predictions for plotting\n",
    "testPredictPlot = np.empty_like(df1)\n",
    "testPredictPlot[:, :] = np.nan\n",
    "testPredictPlot[len(train_predict)+(look_back*2)+1:len(df1)-1, :] = test_predict\n",
    "# plot baseline and predictions\n",
    "plt.plot(df1,c='black')\n",
    "plt.plot(trainPredictPlot,c='green')\n",
    "plt.plot(testPredictPlot,c='red')\n",
    "plt.show()"
   ]
  },
  {
   "cell_type": "markdown",
   "metadata": {},
   "source": [
    "## Predict Price for Next Ten Days"
   ]
  },
  {
   "cell_type": "code",
   "execution_count": 25,
   "metadata": {},
   "outputs": [
    {
     "name": "stdout",
     "output_type": "stream",
     "text": [
      "(1, 2)\n"
     ]
    },
    {
     "data": {
      "text/plain": [
       "array([[0.76203518, 0.81147675]])"
      ]
     },
     "execution_count": 25,
     "metadata": {},
     "output_type": "execute_result"
    }
   ],
   "source": [
    "x_input=test_data[24:].reshape(1,-1)\n",
    "print(x_input.shape)\n",
    "x_input"
   ]
  },
  {
   "cell_type": "code",
   "execution_count": 26,
   "metadata": {},
   "outputs": [],
   "source": [
    "temp_input=list(x_input)\n",
    "temp_input=temp_input[0].tolist()"
   ]
  },
  {
   "cell_type": "code",
   "execution_count": 27,
   "metadata": {},
   "outputs": [
    {
     "data": {
      "text/plain": [
       "[0.762035182, 0.81147675]"
      ]
     },
     "execution_count": 27,
     "metadata": {},
     "output_type": "execute_result"
    }
   ],
   "source": [
    "temp_input"
   ]
  },
  {
   "cell_type": "code",
   "execution_count": 28,
   "metadata": {},
   "outputs": [
    {
     "name": "stdout",
     "output_type": "stream",
     "text": [
      "[0.78698355]\n",
      "3\n",
      "1 Month input [0.81147675 0.78698355]\n",
      "1 Month output [[0.80272895]]\n",
      "2 Month input [0.78698355 0.80272895]\n",
      "2 Month output [[0.79536027]]\n",
      "3 Month input [0.80272895 0.79536027]\n",
      "3 Month output [[0.8004321]]\n",
      "4 Month input [0.79536027 0.80043209]\n",
      "4 Month output [[0.79825604]]\n",
      "5 Month input [0.80043209 0.79825604]\n",
      "5 Month output [[0.79991424]]\n",
      "6 Month input [0.79825604 0.79991424]\n",
      "6 Month output [[0.79929125]]\n",
      "7 Month input [0.79991424 0.79929125]\n",
      "7 Month output [[0.79984444]]\n",
      "8 Month input [0.79929125 0.79984444]\n",
      "8 Month output [[0.7996754]]\n",
      "9 Month input [0.79984444 0.79967541]\n",
      "9 Month output [[0.7998647]]\n",
      "10 Month input [0.79967541 0.79986471]\n",
      "10 Month output [[0.7998238]]\n",
      "11 Month input [0.79986471 0.79982382]\n",
      "11 Month output [[0.7998906]]\n",
      "12 Month input [0.79982382 0.79989058]\n",
      "12 Month output [[0.79988325]]\n",
      "13 Month input [0.79989058 0.79988325]\n",
      "13 Month output [[0.79990774]]\n",
      "14 Month input [0.79988325 0.79990774]\n",
      "14 Month output [[0.7999079]]\n",
      "15 Month input [0.79990774 0.79990792]\n",
      "15 Month output [[0.7999174]]\n",
      "16 Month input [0.79990792 0.7999174 ]\n",
      "16 Month output [[0.7999184]]\n",
      "17 Month input [0.7999174  0.79991841]\n",
      "17 Month output [[0.7999221]]\n",
      "18 Month input [0.79991841 0.79992211]\n",
      "18 Month output [[0.79992306]]\n",
      "19 Month input [0.79992211 0.79992306]\n",
      "19 Month output [[0.7999247]]\n",
      "20 Month input [0.79992306 0.79992467]\n",
      "20 Month output [[0.7999251]]\n",
      "21 Month input [0.79992467 0.79992509]\n",
      "21 Month output [[0.7999258]]\n",
      "22 Month input [0.79992509 0.7999258 ]\n",
      "22 Month output [[0.79992586]]\n",
      "23 Month input [0.7999258  0.79992586]\n",
      "23 Month output [[0.7999263]]\n",
      "24 Month input [0.79992586 0.79992628]\n",
      "24 Month output [[0.79992646]]\n",
      "25 Month input [0.79992628 0.79992646]\n",
      "25 Month output [[0.7999266]]\n",
      "26 Month input [0.79992646 0.79992658]\n",
      "26 Month output [[0.7999267]]\n",
      "27 Month input [0.79992658 0.7999267 ]\n",
      "27 Month output [[0.7999268]]\n",
      "28 Month input [0.7999267  0.79992682]\n",
      "28 Month output [[0.7999269]]\n",
      "29 Month input [0.79992682 0.79992688]\n",
      "29 Month output [[0.79992694]]\n"
     ]
    }
   ],
   "source": [
    "# demonstrate prediction for next 10 days\n",
    "from numpy import array\n",
    "\n",
    "lst_output=[]\n",
    "n_steps=2\n",
    "i=0\n",
    "while(i<30):\n",
    "    \n",
    "    if(len(temp_input)>2):\n",
    "        #print(temp_input)\n",
    "        x_input=np.array(temp_input[1:])\n",
    "        print(\"{} Month input {}\".format(i,x_input))\n",
    "        x_input=x_input.reshape(1,-1)\n",
    "        x_input = x_input.reshape((1, n_steps, 1))\n",
    "        #print(x_input)\n",
    "        yhat = model.predict(x_input, verbose=0)\n",
    "        print(\"{} Month output {}\".format(i,yhat))\n",
    "        temp_input.extend(yhat[0].tolist())\n",
    "        temp_input=temp_input[1:]\n",
    "        #print(temp_input)\n",
    "        lst_output.extend(yhat.tolist())\n",
    "        i=i+1\n",
    "    else:\n",
    "        x_input = x_input.reshape((1, n_steps,1))\n",
    "        yhat = model.predict(x_input, verbose=0)\n",
    "        print(yhat[0])\n",
    "        temp_input.extend(yhat[0].tolist())\n",
    "        print(len(temp_input))\n",
    "        lst_output.extend(yhat.tolist())\n",
    "        i=i+1"
   ]
  },
  {
   "cell_type": "code",
   "execution_count": 29,
   "metadata": {},
   "outputs": [
    {
     "name": "stdout",
     "output_type": "stream",
     "text": [
      "[[0.7869835495948792], [0.8027289509773254], [0.795360267162323], [0.8004320859909058], [0.7982560396194458], [0.7999142408370972], [0.7992912530899048], [0.7998444437980652], [0.7996754050254822], [0.7998647093772888], [0.7998238205909729], [0.7998905777931213], [0.799883246421814], [0.7999077439308167], [0.799907922744751], [0.7999173998832703], [0.7999184131622314], [0.7999221086502075], [0.7999230623245239], [0.7999246716499329], [0.7999250888824463], [0.7999258041381836], [0.7999258637428284], [0.7999262809753418], [0.7999264597892761], [0.7999265789985657], [0.7999266982078552], [0.7999268174171448], [0.7999268770217896], [0.7999269366264343]]\n"
     ]
    }
   ],
   "source": [
    "print(lst_output)"
   ]
  },
  {
   "cell_type": "code",
   "execution_count": 30,
   "metadata": {},
   "outputs": [
    {
     "data": {
      "text/plain": [
       "84"
      ]
     },
     "execution_count": 30,
     "metadata": {},
     "output_type": "execute_result"
    }
   ],
   "source": [
    "day_new=np.arange(1,3)\n",
    "day_pred=np.arange(3,33) \n",
    "len(df1)"
   ]
  },
  {
   "cell_type": "code",
   "execution_count": 33,
   "metadata": {},
   "outputs": [
    {
     "data": {
      "text/plain": [
       "[<matplotlib.lines.Line2D at 0x203c51f8cd0>]"
      ]
     },
     "execution_count": 33,
     "metadata": {},
     "output_type": "execute_result"
    },
    {
     "data": {
      "image/png": "[encoded data removed]",
      "text/plain": [
       "<Figure size 432x288 with 1 Axes>"
      ]
     },
     "metadata": {
      "needs_background": "light"
     },
     "output_type": "display_data"
    }
   ],
   "source": [
    "plt.plot(day_new,df1[82:])\n",
    "plt.plot(day_pred,lst_output)"
   ]
  },
  {
   "cell_type": "code",
   "execution_count": 34,
   "metadata": {},
   "outputs": [
    {
     "data": {
      "text/plain": [
       "[<matplotlib.lines.Line2D at 0x203c5548d60>]"
      ]
     },
     "execution_count": 34,
     "metadata": {},
     "output_type": "execute_result"
    },
    {
     "data": {
      "image/png": "[encoded data removed]",
      "text/plain": [
       "<Figure size 432x288 with 1 Axes>"
      ]
     },
     "metadata": {
      "needs_background": "light"
     },
     "output_type": "display_data"
    }
   ],
   "source": [
    "df3=df1.tolist()\n",
    "df3.extend(lst_output)\n",
    "plt.plot(df3[83:])"
   ]
  },
  {
   "cell_type": "code",
   "execution_count": 35,
   "metadata": {},
   "outputs": [
    {
     "data": {
      "text/plain": [
       "[<matplotlib.lines.Line2D at 0x203c559d190>]"
      ]
     },
     "execution_count": 35,
     "metadata": {},
     "output_type": "execute_result"
    },
    {
     "data": {
      "image/png": "[encoded data removed]",
      "text/plain": [
       "<Figure size 432x288 with 1 Axes>"
      ]
     },
     "metadata": {
      "needs_background": "light"
     },
     "output_type": "display_data"
    }
   ],
   "source": [
    "plt.plot(df3, color='red')"
   ]
  },
  {
   "cell_type": "markdown",
   "metadata": {},
   "source": [
    "## Thus we have successfully predicted 10days Data with more precision."
   ]
  }
 ],
 "metadata": {
  "kernelspec": {
   "display_name": "Python 3",
   "language": "python",
   "name": "python3"
  },
  "language_info": {
   "codemirror_mode": {
    "name": "ipython",
    "version": 3
   },
   "file_extension": ".py",
   "mimetype": "text/x-python",
   "name": "python",
   "nbconvert_exporter": "python",
   "pygments_lexer": "ipython3",
   "version": "3.8.3"
  },
  "varInspector": {
   "cols": {
    "lenName": 16,
    "lenType": 16,
    "lenVar": 40
   },
   "kernels_config": {
    "python": {
     "delete_cmd_postfix": "",
     "delete_cmd_prefix": "del ",
     "library": "var_list.py",
     "varRefreshCmd": "print(var_dic_list())"
    },
    "r": {
     "delete_cmd_postfix": ") ",
     "delete_cmd_prefix": "rm(",
     "library": "var_list.r",
     "varRefreshCmd": "cat(var_dic_list()) "
    }
   },
   "types_to_exclude": [
    "module",
    "function",
    "builtin_function_or_method",
    "instance",
    "_Feature"
   ],
   "window_display": false
  }
 },
 "nbformat": 4,
 "nbformat_minor": 4
}
